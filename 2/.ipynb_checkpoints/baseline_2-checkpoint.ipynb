{
 "cells": [
  {
   "cell_type": "code",
   "execution_count": 2,
   "metadata": {},
   "outputs": [],
   "source": [
    "import pickle\n",
    "import numpy as np"
   ]
  },
  {
   "cell_type": "code",
   "execution_count": 3,
   "metadata": {},
   "outputs": [],
   "source": [
    "ratings_sparse = pickle.load(open('items_10000_matrix.pickle', 'rb'), encoding='iso-8859-1')"
   ]
  },
  {
   "cell_type": "code",
   "execution_count": 4,
   "metadata": {},
   "outputs": [
    {
     "data": {
      "text/plain": [
       "scipy.sparse.csr.csr_matrix"
      ]
     },
     "execution_count": 4,
     "metadata": {},
     "output_type": "execute_result"
    }
   ],
   "source": [
    "type(ratings_sparse)"
   ]
  },
  {
   "cell_type": "code",
   "execution_count": 5,
   "metadata": {},
   "outputs": [],
   "source": [
    "ratings = ratings_sparse.toarray()"
   ]
  },
  {
   "cell_type": "code",
   "execution_count": 6,
   "metadata": {},
   "outputs": [
    {
     "data": {
      "text/plain": [
       "(71869, 10000)"
      ]
     },
     "execution_count": 6,
     "metadata": {},
     "output_type": "execute_result"
    }
   ],
   "source": [
    "ratings.shape"
   ]
  },
  {
   "cell_type": "code",
   "execution_count": 7,
   "metadata": {},
   "outputs": [
    {
     "data": {
      "text/plain": [
       "array([[0, 0, 0, ..., 0, 0, 0],\n",
       "       [0, 0, 0, ..., 0, 0, 0],\n",
       "       [0, 0, 0, ..., 0, 0, 0],\n",
       "       ...,\n",
       "       [0, 0, 0, ..., 0, 0, 0],\n",
       "       [0, 0, 0, ..., 0, 0, 0],\n",
       "       [0, 0, 0, ..., 0, 0, 0]], dtype=int64)"
      ]
     },
     "execution_count": 7,
     "metadata": {},
     "output_type": "execute_result"
    }
   ],
   "source": [
    "ratings"
   ]
  },
  {
   "cell_type": "markdown",
   "metadata": {},
   "source": [
    "*ratings* -  np.array состоящий из нулей и единиц, где каждая строка соответсвует пользователю, а каждая колонка - книге.  \n",
    "1 - на пересечении строки i колонки j значит, что пользователь i прочитал книгу j. 0 - пользователь i не читал книгу j."
   ]
  },
  {
   "cell_type": "markdown",
   "metadata": {},
   "source": [
    "# Part 1"
   ]
  },
  {
   "cell_type": "markdown",
   "metadata": {},
   "source": [
    "### Task 1. Найти самую популярную книгу."
   ]
  },
  {
   "cell_type": "code",
   "execution_count": 8,
   "metadata": {},
   "outputs": [
    {
     "name": "stdout",
     "output_type": "stream",
     "text": [
      "most popular book = 20\n"
     ]
    }
   ],
   "source": [
    "#В условии не сказано про индексацию, так что буду использовать 0-индексацию\n",
    "ones = np.ones((ratings.shape[0], 1), dtype=int)\n",
    "most_popular_book = np.dot(ratings.transpose(), ones).argmax()\n",
    "print('most popular book = {}'.format(most_popular_book))"
   ]
  },
  {
   "cell_type": "code",
   "execution_count": 9,
   "metadata": {},
   "outputs": [
    {
     "data": {
      "text/plain": [
       "11521"
      ]
     },
     "execution_count": 9,
     "metadata": {},
     "output_type": "execute_result"
    }
   ],
   "source": [
    "ratings[:,20].sum()"
   ]
  },
  {
   "cell_type": "markdown",
   "metadata": {},
   "source": [
    "### Task 2. Найти пользователя со второй по величине библиотекой."
   ]
  },
  {
   "cell_type": "code",
   "execution_count": 10,
   "metadata": {},
   "outputs": [
    {
     "name": "stdout",
     "output_type": "stream",
     "text": [
      "user_id with the second biggest library = 69648\n"
     ]
    }
   ],
   "source": [
    "ones = np.ones((ratings.shape[1], 1), dtype=int)\n",
    "libraries = np.dot(ratings, ones).transpose()[0]\n",
    "indexes = np.argpartition(libraries, -2)[-2:]\n",
    "ordered_ind = indexes[np.argsort(libraries[indexes])]\n",
    "second_biggest_library = ordered_ind[0]\n",
    "print('user_id with the second biggest library = {}'.format(second_biggest_library))"
   ]
  },
  {
   "cell_type": "markdown",
   "metadata": {},
   "source": [
    "### Task 3. Найти среднее и медиану размера библиотеки."
   ]
  },
  {
   "cell_type": "code",
   "execution_count": 11,
   "metadata": {},
   "outputs": [
    {
     "name": "stdout",
     "output_type": "stream",
     "text": [
      "mean = 2.266693567463023\n",
      "median = 2.0\n"
     ]
    }
   ],
   "source": [
    "mean = np.mean(libraries)\n",
    "print('mean = {}'.format(mean))\n",
    "\n",
    "median = np.median(libraries)\n",
    "print('median = {}'.format(median))"
   ]
  },
  {
   "cell_type": "markdown",
   "metadata": {},
   "source": [
    "### Task 4. Найти медиану размера библиоткеи у пользователей, которые прочитали книгу номер с id 100."
   ]
  },
  {
   "cell_type": "code",
   "execution_count": 12,
   "metadata": {},
   "outputs": [
    {
     "name": "stdout",
     "output_type": "stream",
     "text": [
      "Median number of books of users who read the book with id 100 = 3.0\n"
     ]
    }
   ],
   "source": [
    "readers_100_libs = ratings[ratings[:,100] == 1]\n",
    "ones = np.ones((readers_100_libs.shape[1], 1), dtype=int)\n",
    "readers_100_libs = np.dot(readers_100_libs, ones).transpose()[0]\n",
    "median_number =  np.median(readers_100_libs)\n",
    "print('Median number of books of users who read the book with id 100 = {}'.format(median_number))"
   ]
  },
  {
   "cell_type": "markdown",
   "metadata": {},
   "source": [
    "# Part 2"
   ]
  },
  {
   "cell_type": "markdown",
   "metadata": {},
   "source": [
    "### Task 1. Похожие книги.\n",
    "1. Найди 20 наиболее похожих книг для книги с id = 100. В качестве меры похожести используй cosine similarity. Используй наиболее быстрый вариант подсчета.\n",
    "  \n",
    "$$cosine\\ similarity = \\frac{A\\cdot B}{||A||\\ ||B||} = \\frac{\\sum_{i=1}^{n} A_iB_i}{\\sqrt{\\sum_{i=1}^{n}A_i^2}\\sqrt{\\sum_{i=1}^{n}B_i^2}}$$  \n",
    "  \n",
    "В качестве ответа верни список кортежей, где каждый кортеж представляет собой пару (book_id, similarity)."
   ]
  },
  {
   "cell_type": "code",
   "execution_count": 13,
   "metadata": {},
   "outputs": [
    {
     "name": "stdout",
     "output_type": "stream",
     "text": [
      "(6, 0.04879500364742666)\n",
      "(73, 0.02126216277812811)\n",
      "(100, 0.9999999999999999)\n",
      "(191, 0.016671298226202138)\n",
      "(214, 0.06482037235521644)\n",
      "(251, 0.034794450031961056)\n",
      "(312, 0.03026137663344012)\n",
      "(426, 0.03065696697424829)\n",
      "(446, 0.025141822757713456)\n",
      "(528, 0.0445435403187374)\n",
      "(836, 0.031943828249996996)\n",
      "(1495, 0.06482037235521644)\n",
      "(2370, 0.1336306209562122)\n",
      "(3468, 0.10910894511799621)\n",
      "(3940, 0.1336306209562122)\n",
      "(5134, 0.1889822365046136)\n",
      "(5440, 0.1336306209562122)\n",
      "(5546, 0.08451542547285167)\n",
      "(5819, 0.2672612419124244)\n",
      "(5863, 0.2672612419124244)\n"
     ]
    }
   ],
   "source": [
    "import sklearn.preprocessing as pp\n",
    "from scipy.sparse import csr_matrix\n",
    "\n",
    "def for_0_ind(row):\n",
    "    indices = np.argpartition(row, -20)[:-20]\n",
    "    return indices\n",
    "\n",
    "\n",
    "def top_20(row): #используется дальше\n",
    "    indices = for_0_ind(row)\n",
    "    tmp = row[:]\n",
    "    tmp[indices] = 0\n",
    "    return tmp\n",
    "\n",
    "\n",
    "def compute_sim_matrix(sparse_ratings):\n",
    "    def cosine_similarities(s_mat):\n",
    "        col_normed_mat = pp.normalize(s_mat, axis=0)\n",
    "        return (col_normed_mat.T * col_normed_mat).toarray()\n",
    "\n",
    "\n",
    "    cos_sim = cosine_similarities(sparse_ratings)\n",
    "    return csr_matrix(np.apply_along_axis( top_20, axis=1, arr=cos_sim))\n",
    "    \n",
    "\n",
    "top_20_matrix = compute_sim_matrix(ratings_sparse)\n",
    "top_20_for_100 = top_20_matrix[100]\n",
    "for tup in zip(top_20_for_100.indices, top_20_for_100.data):\n",
    "    print(tup)"
   ]
  },
  {
   "cell_type": "markdown",
   "metadata": {
    "collapsed": true
   },
   "source": [
    "# Part 3"
   ]
  },
  {
   "cell_type": "markdown",
   "metadata": {},
   "source": [
    "### Task 1. Матрица похожих книг (топ-20)."
   ]
  },
  {
   "cell_type": "markdown",
   "metadata": {},
   "source": [
    "Создать матрицу похожих книг (матрица 10000 x 10000) использую метрику *cosine similarity*. В каждоый строке оставить только топ 20 самых похожих. Лучше написать функцию которая на вход получает матрицу рейтингов на выходе матрица похожих книг. Эту фунцкцию можно будет использовать в следующем задании."
   ]
  },
  {
   "cell_type": "code",
   "execution_count": 14,
   "metadata": {},
   "outputs": [],
   "source": [
    "#сделана выше"
   ]
  },
  {
   "cell_type": "markdown",
   "metadata": {},
   "source": [
    "### Task 2. Оценить рекомендательную систему."
   ]
  },
  {
   "cell_type": "markdown",
   "metadata": {},
   "source": [
    "Оценить качество рекомендательной системы, основанной на матрице похожих книг, использую метрики **precision** и **recall**. Рекомендации должны получаться путем умножения матрицы похожих книг на вектор пользователя.\n",
    "  \n",
    "**precison** - кол-во книг которые попали пользователю в рекомендации и он их действительно добавил делить на кол-во рекомендованных книг.\n",
    "  \n",
    "**recall** - кол-во книг которые попали пользователю в рекомендации и он их действительно добавил делить на кол-во книг добавленных пользователем. \n",
    "  \n",
    "Метрики считать на 20 самых лучших рекомендациях для каждого пользователя."
   ]
  },
  {
   "cell_type": "code",
   "execution_count": 1,
   "metadata": {},
   "outputs": [
    {
     "ename": "SyntaxError",
     "evalue": "invalid syntax (<ipython-input-1-8be15bf48ed4>, line 2)",
     "output_type": "error",
     "traceback": [
      "\u001b[1;36m  File \u001b[1;32m\"<ipython-input-1-8be15bf48ed4>\"\u001b[1;36m, line \u001b[1;32m2\u001b[0m\n\u001b[1;33m    абы влезло\u001b[0m\n\u001b[1;37m             ^\u001b[0m\n\u001b[1;31mSyntaxError\u001b[0m\u001b[1;31m:\u001b[0m invalid syntax\n"
     ]
    }
   ],
   "source": [
    "#непонятно, что значит \"лучших рекомендациях\". Я подумал, что это == рекомедации с наибольшими числами в рек. системе\n",
    "req_system = ratings_sparse * top_20_matrix\n",
    "precision_arr = []\n",
    "recall_arr = []\n",
    "for i in range(ratings.shape[0]):\n",
    "    calc = req_system.getrow(i).toarray()\n",
    "    tmp = np.ones(ratings.shape[1])\n",
    "    tmp[for_0_ind(calc)] = 0 #выбираем топ 20 предсказаний\n",
    "    true_positive_arr = np.multiply(ratings[i], tmp)\n",
    "    precision_arr.append((true_positive_arr.sum() / tmp.sum()) if libraries[i] != 0 else 0)\n",
    "    recall_arr.append((true_positive_arr.sum() / libraries[i]) if libraries[i] != 0 else 0)"
   ]
  },
  {
   "cell_type": "code",
   "execution_count": 33,
   "metadata": {},
   "outputs": [
    {
     "name": "stdout",
     "output_type": "stream",
     "text": [
      "0.0002\n"
     ]
    }
   ],
   "source": [
    "print(np.mean(precision_arr))"
   ]
  },
  {
   "cell_type": "code",
   "execution_count": 35,
   "metadata": {},
   "outputs": [
    {
     "name": "stdout",
     "output_type": "stream",
     "text": [
      "0.8970627113219887\n"
     ]
    }
   ],
   "source": [
    "print(np.mean(recall_arr))"
   ]
  },
  {
   "cell_type": "code",
   "execution_count": null,
   "metadata": {},
   "outputs": [],
   "source": []
  }
 ],
 "metadata": {
  "kernelspec": {
   "display_name": "Python 3",
   "language": "python",
   "name": "python3"
  },
  "language_info": {
   "codemirror_mode": {
    "name": "ipython",
    "version": 3
   },
   "file_extension": ".py",
   "mimetype": "text/x-python",
   "name": "python",
   "nbconvert_exporter": "python",
   "pygments_lexer": "ipython3",
   "version": "3.7.3"
  }
 },
 "nbformat": 4,
 "nbformat_minor": 1
}
