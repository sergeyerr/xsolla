{
 "cells": [
  {
   "cell_type": "code",
   "execution_count": 58,
   "metadata": {},
   "outputs": [],
   "source": [
    "\n",
    "import pandas as pd\n",
    "\n",
    "from sklearn.ensemble import RandomForestClassifier\n",
    "from sklearn.model_selection import cross_validate , train_test_split , StratifiedShuffleSplit\n",
    "from sklearn import   linear_model, metrics\n",
    "from sklearn.linear_model import SGDClassifier as SGD"
   ]
  },
  {
   "cell_type": "code",
   "execution_count": 59,
   "metadata": {},
   "outputs": [],
   "source": [
    "train_directory = \"data/train.csv\"\n",
    "train = pd.read_csv(train_directory, header=0 )\n",
    "train['y'] = [1 if y == 'yes' else 0 for y in train['y']]"
   ]
  },
  {
   "cell_type": "code",
   "execution_count": 60,
   "metadata": {},
   "outputs": [],
   "source": [
    "from sklearn.preprocessing import LabelEncoder\n",
    "encoders = {}\n",
    "for k,v in train.dtypes.iteritems():\n",
    "    if v == 'object':\n",
    "        encoder = LabelEncoder()\n",
    "        train[k] = encoder.fit_transform(train[k])\n",
    "        encoders[k] = encoder"
   ]
  },
  {
   "cell_type": "code",
   "execution_count": 350,
   "metadata": {},
   "outputs": [
    {
     "data": {
      "text/plain": [
       "pdays            -0.344608\n",
       "nr.employed      -0.332281\n",
       "euribor3m        -0.278375\n",
       "emp.var.rate     -0.259834\n",
       "contact          -0.132529\n",
       "campaign         -0.079928\n",
       "default          -0.068977\n",
       "cons.price.idx   -0.065774\n",
       "loan             -0.011874\n",
       "housing          -0.009219\n",
       "day_of_week      -0.004273\n",
       "month             0.007864\n",
       "job               0.024329\n",
       "cons.conf.idx     0.034768\n",
       "marital           0.045862\n",
       "age               0.053425\n",
       "education         0.063527\n",
       "poutcome          0.125979\n",
       "previous          0.268134\n",
       "duration          0.433596\n",
       "Name: y, dtype: float64"
      ]
     },
     "execution_count": 350,
     "metadata": {},
     "output_type": "execute_result"
    }
   ],
   "source": [
    "cor = train.corr()['y'].drop(['y'], axis = 0)\n",
    "cor.sort_values()\n",
    "#посчитал корреляцию, выбрал фичи с наибольшей корреляцией(константа 0.1 отобралась перебором)"
   ]
  },
  {
   "cell_type": "code",
   "execution_count": 351,
   "metadata": {},
   "outputs": [],
   "source": [
    "#X = train[['age' , 'previous']][:]\n",
    "features = cor[abs(cor) > 0.1].index.tolist()\n",
    "\n",
    "X = train[features][:]\n",
    "y = train['y'][:]"
   ]
  },
  {
   "cell_type": "code",
   "execution_count": 145,
   "metadata": {},
   "outputs": [],
   "source": [
    "from sklearn.model_selection import cross_val_score\n",
    "from sklearn.metrics import make_scorer, roc_auc_score\n",
    "def get_cross_val_score(classifier, X, y):\n",
    "    return cross_val_score(classifier, test_data, test_labels,\n",
    "                         scoring=make_scorer(roc_auc_score), cv=5).mean() # я не понимаю, почему это отличается от scoring = 'roc_auc'"
   ]
  },
  {
   "cell_type": "code",
   "execution_count": 311,
   "metadata": {},
   "outputs": [
    {
     "data": {
      "text/plain": [
       "GridSearchCV(cv=5, error_score='raise-deprecating',\n",
       "       estimator=RandomForestClassifier(bootstrap=True, class_weight=None, criterion='gini',\n",
       "            max_depth=None, max_features=None, max_leaf_nodes=None,\n",
       "            min_impurity_decrease=0.0, min_impurity_split=None,\n",
       "            min_samples_leaf=1, min_samples_split=2,\n",
       "            min_weight_fraction_leaf=0.0, n_estimators=30, n_jobs=None,\n",
       "            oob_score=False, random_state=None, verbose=0,\n",
       "            warm_start=False),\n",
       "       fit_params=None, iid='warn', n_jobs=None,\n",
       "       param_grid=[{'max_depth': [None, 5, 10, 15, 20], 'min_samples_split': [4, 5, 6, 7], 'min_samples_leaf': [8, 9, 10, 11, 12, 13]}],\n",
       "       pre_dispatch='2*n_jobs', refit=True, return_train_score='warn',\n",
       "       scoring=make_scorer(roc_auc_score), verbose=0)"
      ]
     },
     "execution_count": 311,
     "metadata": {},
     "output_type": "execute_result"
    }
   ],
   "source": [
    "from sklearn.model_selection import GridSearchCV\n",
    "param_grid = [\n",
    "{'max_depth' : [None, 5, 10, 15, 20],\n",
    " 'min_samples_split' : [4,5,6,7], \n",
    " 'min_samples_leaf' : [8,9,10,11,12,13],\n",
    "}\n",
    "]\n",
    "RFC = RandomForestClassifier(max_features = None, n_estimators=30) # получены в результате предыдущих исследований\n",
    "grid_search = GridSearchCV(RFC, param_grid, cv=5,\n",
    "scoring=make_scorer(roc_auc_score))\n",
    "grid_search.fit(X, y)\n"
   ]
  },
  {
   "cell_type": "code",
   "execution_count": 312,
   "metadata": {},
   "outputs": [
    {
     "data": {
      "text/plain": [
       "{'max_depth': 10, 'min_samples_leaf': 9, 'min_samples_split': 5}"
      ]
     },
     "execution_count": 312,
     "metadata": {},
     "output_type": "execute_result"
    }
   ],
   "source": [
    "grid_search.best_params_"
   ]
  },
  {
   "cell_type": "code",
   "execution_count": 353,
   "metadata": {},
   "outputs": [
    {
     "data": {
      "text/plain": [
       "0.8077074600217357"
      ]
     },
     "execution_count": 353,
     "metadata": {},
     "output_type": "execute_result"
    }
   ],
   "source": [
    "best = grid_search.best_estimator_\n",
    "get_cross_val_score(best, X, y)"
   ]
  },
  {
   "cell_type": "code",
   "execution_count": null,
   "metadata": {},
   "outputs": [],
   "source": [
    "'''\n",
    "будь у меня время, я бы:\n",
    "1) Изучил SGDClassifier более подробно, намёк из импортов я понял, а вот хорошего результата получить не смог\n",
    "2) Провёл иной анализ фич, возможно бы сделал one-hot encoding для некоторых колонок, и использовал какие-нибудь другие способы анализа\n",
    "3) Изучил случаные леса более подробно, вероятно я что-то не знаю\n",
    "4) Использовал иные способы классификации(скормил бы всё нейронке, например)\n",
    "'''"
   ]
  }
 ],
 "metadata": {
  "kernelspec": {
   "display_name": "Python 3",
   "language": "python",
   "name": "python3"
  },
  "language_info": {
   "codemirror_mode": {
    "name": "ipython",
    "version": 3
   },
   "file_extension": ".py",
   "mimetype": "text/x-python",
   "name": "python",
   "nbconvert_exporter": "python",
   "pygments_lexer": "ipython3",
   "version": "3.7.3"
  }
 },
 "nbformat": 4,
 "nbformat_minor": 2
}
